{
 "metadata": {
  "language_info": {
   "codemirror_mode": {
    "name": "ipython",
    "version": 3
   },
   "file_extension": ".py",
   "mimetype": "text/x-python",
   "name": "python",
   "nbconvert_exporter": "python",
   "pygments_lexer": "ipython3",
   "version": "3.8.6-final"
  },
  "orig_nbformat": 2,
  "kernelspec": {
   "name": "python3",
   "display_name": "Python 3",
   "language": "python"
  }
 },
 "nbformat": 4,
 "nbformat_minor": 2,
 "cells": [
  {
   "cell_type": "code",
   "execution_count": null,
   "metadata": {},
   "outputs": [],
   "source": [
    "from src.CH import CH\n",
    "from src.Sci import Sci\n",
    "\n",
    "## Instantiate class\n",
    "ch = CH()"
   ]
  },
  {
   "cell_type": "code",
   "execution_count": null,
   "metadata": {},
   "outputs": [],
   "source": [
    "## Edit informations\n",
    "gold = ch.gold\n",
    "ch.gold = gold * '1.0e99999'\n",
    "\n",
    "ch.rubies = 999\n",
    "ch.autoClickers = 100\n",
    "ch.decoded['total5MinuteQuests'] = 5500\n",
    "ch.decoded['account']['name'] = 'Henrique Amaral'"
   ]
  },
  {
   "cell_type": "code",
   "execution_count": null,
   "metadata": {},
   "outputs": [],
   "source": [
    "# Create custom Mercenary\n",
    "mercs = ch.mercenaries\n",
    "\n",
    "mercs[0].info['name'] = 'Henricao'\n",
    "mercs[0].info['level'] = 350\n",
    "mercs[0].info['rarity'] = 8\n",
    "mercs[0].info['statId'] = 3\n",
    "\n",
    "# Save mercenaries to class\n",
    "ch.mercenaries = mercs"
   ]
  },
  {
   "cell_type": "code",
   "execution_count": null,
   "metadata": {},
   "outputs": [],
   "source": [
    "## Generate save file text\n",
    "print(ch.encode())"
   ]
  }
 ]
}